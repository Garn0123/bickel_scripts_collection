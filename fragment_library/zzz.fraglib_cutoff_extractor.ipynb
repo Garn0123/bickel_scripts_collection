{
 "cells": [
  {
   "cell_type": "code",
   "execution_count": 34,
   "metadata": {},
   "outputs": [],
   "source": [
    "#Editor: John Bickel\n",
    "#Purpose: Keeps only fragments from the fragment library based on a given cutoff (12,000 default)\n",
    "#Edit date: 03/04/2021\n",
    "\n",
    "#Returns a list of all the lines of the molecules in a given multi-mol2\n",
    "def extract_all_molecules(filename):\n",
    "    line_list=[]\n",
    "    molecule_list=[]\n",
    "    with open(filename,\"r\") as f:\n",
    "        append_val=0\n",
    "        for line in f:\n",
    "            #TYPE: is the first line in each header\n",
    "            if \"TYPE:\" in line:\n",
    "                append_val+=1 #shoddy way of tracking if we're at the second molecule\n",
    "                if append_val>=2: #if we are, start appending things\n",
    "                    append_next=True\n",
    "                    molecule_list.append(line_list)\n",
    "                    \n",
    "                line_list=[]\n",
    "                line_list.append(line)\n",
    "            else:\n",
    "                line_list.append(line)\n",
    "    return(molecule_list) #returns a list\n",
    "\n",
    "#takes all the fragments and only keeps the ones > freq_cutoff\n",
    "def remake_by_cutoff(filename,outfile,freq_cutoff):\n",
    "    #pulls all fragments in the file into a list\n",
    "    fragments=extract_all_molecules(filename)\n",
    "    with open(outfile,\"w\") as of:\n",
    "        for frag in fragments:\n",
    "            #frag[2] is the FREQ: header line with basic output\n",
    "            if int(frag[2].split(\":\")[1].strip()) > freq_cutoff:\n",
    "                for line in frag:\n",
    "                    #writes to line if above freq_cutoff\n",
    "                    of.write(line)\n",
    "    \n",
    "\n",
    "#Raw fragment library outputs\n",
    "lnk_file=\"fraglib_linker.mol2\"\n",
    "scf_file=\"fraglib_scaffold.mol2\"\n",
    "sid_file=\"fraglib_sidechain.mol2\"\n",
    "\n",
    "#Outfile names of your choice\n",
    "lnk_outfile=\"fraglib_linker_cutoff.mol2\"\n",
    "scf_outfile=\"fraglib_scaffold_cutoff.mol2\"\n",
    "sid_outfile=\"fraglib_sidechain_cutoff.mol2\"\n",
    "\n",
    "#Whatever you want the cutoff to be\n",
    "freq_cutoff=12000\n",
    "\n",
    "remake_by_cutoff(lnk_file,lnk_outfile,freq_cutoff)\n",
    "remake_by_cutoff(scf_file,scf_outfile,freq_cutoff)\n",
    "remake_by_cutoff(sid_file,sid_outfile,freq_cutoff)"
   ]
  },
  {
   "cell_type": "code",
   "execution_count": null,
   "metadata": {},
   "outputs": [],
   "source": []
  },
  {
   "cell_type": "code",
   "execution_count": null,
   "metadata": {},
   "outputs": [],
   "source": []
  }
 ],
 "metadata": {
  "kernelspec": {
   "display_name": "Python 3",
   "language": "python",
   "name": "python3"
  },
  "language_info": {
   "codemirror_mode": {
    "name": "ipython",
    "version": 3
   },
   "file_extension": ".py",
   "mimetype": "text/x-python",
   "name": "python",
   "nbconvert_exporter": "python",
   "pygments_lexer": "ipython3",
   "version": "3.8.3"
  }
 },
 "nbformat": 4,
 "nbformat_minor": 4
}
