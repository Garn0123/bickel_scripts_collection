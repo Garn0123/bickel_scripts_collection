{
 "cells": [
  {
   "cell_type": "code",
   "execution_count": null,
   "metadata": {},
   "outputs": [],
   "source": [
    "# Import modules for our exercise\n",
    "import numpy as np     # numerical package\n",
    "import pandas as pd    # data organization package\n",
    "import matplotlib.pyplot as plt # plotting package\n",
    "import os              # operational system interface package\n",
    "%matplotlib inline\n",
    "\n",
    "# Import modules for dealing with chemical information\n",
    "from rdkit import Chem as Chem\n",
    "from rdkit.Chem import rdMolDescriptors\n",
    "from rdkit.Chem import AllChem as Chem2\n",
    "from rdkit.Chem import Descriptors as Desc\n",
    "from rdkit.Chem import Draw\n",
    "from rdkit.Chem import rdmolfiles as RDFile\n",
    "\n",
    "import pickle\n",
    "\n",
    "import math\n",
    "from collections import defaultdict\n",
    "\n",
    "import os.path as op"
   ]
  },
  {
   "cell_type": "code",
   "execution_count": null,
   "metadata": {},
   "outputs": [],
   "source": []
  },
  {
   "cell_type": "code",
   "execution_count": null,
   "metadata": {},
   "outputs": [],
   "source": [
    "graphs_list=[]\n",
    "\n",
    "logp_file=\"logp_list.dat\"\n",
    "mw_file=\"mw_list.dat\"\n",
    "aro_rings_file=\"aromatic_ring_list.dat\"\n",
    "h_don_file=\"numhdon_list.dat\"\n",
    "h_acc_file=\"numhacc_list.dat\"\n",
    "sasa_file=\"sasa_list.dat\"\n",
    "\n",
    "graphs_list.append(logp_file)\n",
    "graphs_list.append(mw_file)\n",
    "graphs_list.append(aro_rings_file)\n",
    "graphs_list.append(h_don_file)\n",
    "graphs_list.append(h_acc_file)\n",
    "graphs_list.append(sasa_file)\n"
   ]
  },
  {
   "cell_type": "code",
   "execution_count": null,
   "metadata": {},
   "outputs": [],
   "source": [
    "position_merger=[]\n",
    "position_counter=0\n",
    "#fig, axs = plt.figure(figsize=(6, 6))\n",
    "fig,axs = plt.subplots(2,2)\n",
    "for i in range(0,3):\n",
    "    for x in range(0,int(len(graphs_list)/3)):\n",
    "        \n",
    "        position_merger.append((graphs_list[position_counter],(x,i)))\n",
    "        plt.subplot(grid[x,i])\n",
    "        position_counter+=1\n",
    "        if position_counter > len(graphs_list)-1:\n",
    "            break\n"
   ]
  },
  {
   "cell_type": "code",
   "execution_count": null,
   "metadata": {},
   "outputs": [],
   "source": [
    "%config InlineBackend.figure_format ='retina'\n",
    "for data_file in graphs_list:\n",
    "    print(data_file.split(\"_\")[0])\n",
    "    data_vals=[]\n",
    "    with open(data_file,\"r\") as f:\n",
    "        for line in f:\n",
    "            data_vals.append(float(line))\n",
    "    fig=plt.figure(num=None, figsize=(4, 1.5), dpi=200, facecolor='w', edgecolor='k')\n",
    "    #plt.axis_y([0, max(data_vals), 0, max(data_vals)])\n",
    "    if max(data_vals) <= 25:\n",
    "        plt.hist(data_vals,color='purple',bins=np.arange(0,max(data_vals),1))\n",
    "    else:\n",
    "        plt.hist(data_vals,bins=np.arange(0,max(data_vals),30),color='purple')\n",
    "    plt.ylabel('Population',size=5)\n",
    "    plt.title(data_file.split(\"_\")[0],size=8)\n",
    "    plt.tick_params(axis='both',which='major',labelsize=6)\n",
    "    plt.show\n",
    "            \n",
    "        \n",
    "data_vals.clear()\n",
    "\n",
    "        \n",
    "#Plots running euclidean distance the ZINC, torsion, and \n"
   ]
  },
  {
   "cell_type": "code",
   "execution_count": null,
   "metadata": {},
   "outputs": [],
   "source": []
  }
 ],
 "metadata": {
  "kernelspec": {
   "display_name": "Python 3",
   "language": "python",
   "name": "python3"
  },
  "language_info": {
   "codemirror_mode": {
    "name": "ipython",
    "version": 3
   },
   "file_extension": ".py",
   "mimetype": "text/x-python",
   "name": "python",
   "nbconvert_exporter": "python",
   "pygments_lexer": "ipython3",
   "version": "3.8.3"
  }
 },
 "nbformat": 4,
 "nbformat_minor": 2
}
