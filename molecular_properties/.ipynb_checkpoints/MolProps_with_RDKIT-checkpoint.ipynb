{
 "cells": [
  {
   "cell_type": "code",
   "execution_count": 6,
   "metadata": {},
   "outputs": [],
   "source": [
    "# Import modules for our exercise\n",
    "import numpy as np     # numerical package\n",
    "import pandas as pd    # data organization package\n",
    "import matplotlib.pyplot as plt # plotting package\n",
    "import os              # operational system interface package\n",
    "%matplotlib inline"
   ]
  },
  {
   "cell_type": "code",
   "execution_count": 7,
   "metadata": {},
   "outputs": [],
   "source": [
    "# Import modules for dealing with chemical information\n",
    "from rdkit import Chem as Chem\n",
    "from rdkit.Chem import rdMolDescriptors\n",
    "from rdkit.Chem import AllChem as Chem2\n",
    "from rdkit.Chem import Descriptors as Desc\n",
    "from rdkit.Chem import Draw\n",
    "from rdkit.Chem import rdmolfiles as RDFile\n",
    "\n",
    "import pickle\n",
    "\n",
    "import math\n",
    "from collections import defaultdict\n",
    "\n",
    "import os.path as op"
   ]
  },
  {
   "cell_type": "code",
   "execution_count": 8,
   "metadata": {},
   "outputs": [],
   "source": [
    "# Function that reads multi-molecule MOL2 files. Adapted from:\n",
    "# https://chem-workflows.com/articles/2019/07/18/building-a-multi-molecule-mol2-reader-for-rdkit/\n",
    "# further adapted from function written by Guilherme Duarte, Rizzo Lab\n",
    "def mol2_mol_supplier_loop(file):\n",
    "    ''' This function extracts all the molecules in the multi-molecule\n",
    "        MOL2 file `file` and returns a list of rdkit.Chem.rdchem.mol \n",
    "        object.\n",
    "        \n",
    "        Variable         I/O          dtype           default value?\n",
    "        ------------------------------------------------------------\n",
    "        file              I           string                  None\n",
    "        mols              O           list                    N/A\n",
    "        mols[i]           O           rdkit.Chem.rdchem.mol   N/A\n",
    "        \n",
    "    '''\n",
    "    mols=[]\n",
    "    \n",
    "    recording=False\n",
    "    with open(file, 'r') as f:\n",
    "        for line in f:\n",
    "            \n",
    "            # Determines if @<TRIPOS>MOLECULE is in line, which marks the start\n",
    "            # of each molecule. Sets the recording variable to True, which is\n",
    "            # the boolean to write each molecule.\n",
    "            if (\"@<TRIPOS>MOLECULE\") in line:\n",
    "                recording=True\n",
    "                mol = []\n",
    "            # Determines if \"ROOT\" is in line, which marks the end of each\n",
    "            # molecule. Records the line and sets the recording variable\n",
    "            # to false.\n",
    "            elif (\"ROOT\") in line:\n",
    "                mol.append(line)\n",
    "                recording=False\n",
    "                \n",
    "                # Makes final adjustments to the data. It must look\n",
    "                # like the MOL2 file of a single molecule.\n",
    "                block = \",\".join(mol).replace(',','')\n",
    "                \n",
    "                # Converts the data of a single molecule to a \n",
    "                # rdkit.Chem.rdchem.mol object.\n",
    "                m=Chem.MolFromMol2Block(block,\n",
    "                                        sanitize=False,\n",
    "                                        cleanupSubstructures=False)\n",
    "                mols.append(m)\n",
    "                continue\n",
    "                \n",
    "            if recording==True:\n",
    "                mol.append(line)\n",
    "                \n",
    "        return(mols)\n",
    "                "
   ]
  },
  {
   "cell_type": "markdown",
   "metadata": {},
   "source": [
    "# Don't use this unless you need to break things up"
   ]
  },
  {
   "cell_type": "code",
   "execution_count": 9,
   "metadata": {},
   "outputs": [],
   "source": [
    "#### A breakup step if you need to truncate the # of molecules you're working with\n",
    "#### for them to be workable with the amount of available memory.\n",
    "filename=\"./2020.01.03_roulette_fixes_combined_molecules.mol2\"\n",
    "o_filename=\"test_out.mol2\"\n",
    "\n",
    "molecule_counter=0\n",
    "with open(filename,'r') as f:\n",
    "    with open(o_filename,'w') as o:\n",
    "        for line in f:\n",
    "            if \"Name\" in line:\n",
    "                molecule_counter+=1\n",
    "            if molecule_counter > 100:\n",
    "                break\n",
    "            if \"###\" in line:\n",
    "                continue\n",
    "            o.write(line)"
   ]
  },
  {
   "cell_type": "markdown",
   "metadata": {},
   "source": [
    "# Actual Code"
   ]
  },
  {
   "cell_type": "code",
   "execution_count": null,
   "metadata": {},
   "outputs": [],
   "source": [
    "filename=\"./2020.01.03_roulette_fixes_combined_molecules.mol2\"\n",
    "\n",
    "molecule_list=mol2_mol_supplier_loop(filename)"
   ]
  },
  {
   "cell_type": "code",
   "execution_count": null,
   "metadata": {
    "scrolled": true
   },
   "outputs": [],
   "source": [
    "#This is a sanity check step - to make sure everything worked above.\n",
    "for mol in molecule_list:\n",
    "    if mol is None: continue\n",
    "    print(mol.GetNumAtoms())"
   ]
  },
  {
   "cell_type": "code",
   "execution_count": null,
   "metadata": {},
   "outputs": [],
   "source": [
    "for mol in molecule_list:\n",
    "    mol.UpdatePropertyCache(strict=False)\n",
    "    RDFile.MolToPDBFile(mol,\"out1.pdb\")\n",
    "    Chem.SanitizeMol(mol,sanitizeOps=Chem.SanitizeFlags.SANITIZE_ALL^Chem.SanitizeFlags.SANITIZE_KEKULIZE^Chem.SanitizeFlags.SANITIZE_SETAROMATICITY)\n",
    "    RDFile.MolToPDBFile(mol,\"out2.pdb\")"
   ]
  },
  {
   "cell_type": "markdown",
   "metadata": {},
   "source": [
    "## Aromatic Rings"
   ]
  },
  {
   "cell_type": "code",
   "execution_count": null,
   "metadata": {},
   "outputs": [],
   "source": [
    "aromatic_count_list=[]\n",
    "for mol in molecule_list:\n",
    "    aromatic_count_list.append(Desc.NumAromaticRings(mol))"
   ]
  },
  {
   "cell_type": "code",
   "execution_count": null,
   "metadata": {},
   "outputs": [],
   "source": [
    "fig=plt.figure(num=None, figsize=(8, 2), dpi=400, facecolor='w', edgecolor='k',)\n",
    "plt.title(\"NumAromaticRings\")\n",
    "plt.hist(aromatic_count_list,density=True,bins=[0,1,2,3,4,5,6])"
   ]
  },
  {
   "cell_type": "code",
   "execution_count": null,
   "metadata": {},
   "outputs": [],
   "source": [
    "with open(\"aromatic_ring_list.dat\",\"w\") as f:\n",
    "    for i in aromatic_count_list:\n",
    "        f.write(\"%s\\n\" % (i))\n",
    "aromatic_count_list.clear()"
   ]
  },
  {
   "cell_type": "markdown",
   "metadata": {},
   "source": [
    "## LogP"
   ]
  },
  {
   "cell_type": "code",
   "execution_count": null,
   "metadata": {},
   "outputs": [],
   "source": [
    "logp_list=[]\n",
    "for mol in molecule_list:\n",
    "    logp_list.append(Chem.Crippen.MolLogP(mol))"
   ]
  },
  {
   "cell_type": "code",
   "execution_count": null,
   "metadata": {},
   "outputs": [],
   "source": [
    "fig=plt.figure(num=None, figsize=(8, 2), dpi=400, facecolor='w', edgecolor='k',)\n",
    "plt.title(\"LogP\")\n",
    "plt.hist(logp_list,bins=50,density=True)"
   ]
  },
  {
   "cell_type": "code",
   "execution_count": null,
   "metadata": {},
   "outputs": [],
   "source": [
    "with open(\"logp.dat\",\"w\") as f:\n",
    "    for i in logp_list:\n",
    "\n",
    "        f.write(\"%s\\n\" % (i))\n",
    "logp_list.clear()"
   ]
  },
  {
   "cell_type": "markdown",
   "metadata": {},
   "source": [
    "## Molecular Weight"
   ]
  },
  {
   "cell_type": "code",
   "execution_count": null,
   "metadata": {},
   "outputs": [],
   "source": [
    "mw_list=[]\n",
    "for mol in molecule_list:\n",
    "    mw_list.append(Desc.ExactMolWt(mol))"
   ]
  },
  {
   "cell_type": "code",
   "execution_count": null,
   "metadata": {},
   "outputs": [],
   "source": [
    "with open(\"mw_list.dat\",\"w\") as f:\n",
    "    for i in mw_list:\n",
    "\n",
    "        f.write(\"%s\\n\" % (i))"
   ]
  },
  {
   "cell_type": "code",
   "execution_count": null,
   "metadata": {},
   "outputs": [],
   "source": [
    "fig=plt.figure(num=None, figsize=(8, 2), dpi=400, facecolor='w', edgecolor='k',)\n",
    "plt.title(\"MolecularWeight\")\n",
    "plt.hist(mw_list,bins=50,density=True)"
   ]
  },
  {
   "cell_type": "markdown",
   "metadata": {},
   "source": [
    "# IDK"
   ]
  },
  {
   "cell_type": "code",
   "execution_count": null,
   "metadata": {},
   "outputs": [],
   "source": [
    "numhacceptors"
   ]
  },
  {
   "cell_type": "code",
   "execution_count": null,
   "metadata": {},
   "outputs": [],
   "source": [
    "numhdonors"
   ]
  },
  {
   "cell_type": "code",
   "execution_count": null,
   "metadata": {},
   "outputs": [],
   "source": [
    "#Hacc\n",
    "bad_acc_counter=0\n",
    "mol_counter=0\n",
    "num_h_acc_list=[]\n",
    "for mol in molecule_list:\n",
    "    mol_counter+=1\n",
    "    try:\n",
    "        mol.UpdatePropertyCache(strict=False)\n",
    "        num_h_acc_list.append(Desc.NumHAcceptors(mol))\n",
    "        \n",
    "    except:\n",
    "        bad_acc_counter+=1\n",
    "        \n",
    "        continue\n",
    "\n",
    "with open(\"numhacc_list.dat\",\"w\") as f:\n",
    "    for i in num_h_acc_list:\n",
    "\n",
    "        f.write(\"%s\\n\" % (i))\n",
    "num_h_acc_list.clear() \n",
    "        \n",
    "#Hdon\n",
    "num_h_don_list=[]\n",
    "bad_don_counter=0\n",
    "mol_counter=0\n",
    "for mol in molecule_list:\n",
    "    mol_counter+=1\n",
    "    try:\n",
    "        mol.UpdatePropertyCache(strict=False)\n",
    "        num_h_don_list.append(Desc.NumHDonors(mol))\n",
    "        #print(Desc.NumHDonors(mol))\n",
    "        \n",
    "    except:\n",
    "        bad_don_counter+=1\n",
    "        \n",
    "        continue\n",
    "\n",
    "with open(\"numhdon_list.dat\",\"w\") as f:\n",
    "    for i in num_h_don_list:\n",
    "\n",
    "        f.write(\"%s\\n\" % (i))\n",
    "num_h_acc_list.clear()\n",
    "print(\"Bad acc: %d\" % (bad_acc_counter))\n",
    "print(\"Bad don: %d\" % (bad_don_counter))"
   ]
  },
  {
   "cell_type": "code",
   "execution_count": null,
   "metadata": {},
   "outputs": [],
   "source": []
  },
  {
   "cell_type": "code",
   "execution_count": 39,
   "metadata": {},
   "outputs": [],
   "source": [
    "_fscores = None\n",
    "\n",
    "\n",
    "def readFragmentScores(name='fpscores'):\n",
    "    import gzip\n",
    "    global _fscores\n",
    "    # generate the full path filename:\n",
    "    if name == \"fpscores\":\n",
    "        print(os.getcwd())\n",
    "        name = op.join(os.getcwd(), name)\n",
    "    data = pickle.load(gzip.open('%s.pkl.gz' % name))\n",
    "    outDict = {}\n",
    "    for i in data:\n",
    "        for j in range(1, len(i)):\n",
    "            outDict[i[j]] = float(i[0])\n",
    "    _fscores = outDict\n",
    "\n",
    "\n",
    "def numBridgeheadsAndSpiro(mol, ri=None):\n",
    "    nSpiro = rdMolDescriptors.CalcNumSpiroAtoms(mol)\n",
    "    nBridgehead = rdMolDescriptors.CalcNumBridgeheadAtoms(mol)\n",
    "    return nBridgehead, nSpiro\n",
    "\n",
    "\n",
    "def calculateScore(m):\n",
    "    if _fscores is None:\n",
    "        readFragmentScores()\n",
    "    m.UpdatePropertyCache(strict=False)\n",
    "    # fragment score\n",
    "    fp = rdMolDescriptors.GetMorganFingerprint(m,\n",
    "                                               2)  # <- 2 is the *radius* of the circular fingerprint\n",
    "    fps = fp.GetNonzeroElements()\n",
    "    score1 = 0.\n",
    "    nf = 0\n",
    "    for bitId, v in fps.items():\n",
    "        nf += v\n",
    "        sfp = bitId\n",
    "        score1 += _fscores.get(sfp, -4) * v\n",
    "    score1 /= nf\n",
    "\n",
    "    # features score\n",
    "    nAtoms = m.GetNumAtoms()\n",
    "    nChiralCenters = len(Chem.FindMolChiralCenters(m, includeUnassigned=True))\n",
    "    ri = m.GetRingInfo()\n",
    "    nBridgeheads, nSpiro = numBridgeheadsAndSpiro(m, ri)\n",
    "    nMacrocycles = 0\n",
    "    for x in ri.AtomRings():\n",
    "        if len(x) > 8:\n",
    "            nMacrocycles += 1\n",
    "\n",
    "    sizePenalty = nAtoms**1.005 - nAtoms\n",
    "    stereoPenalty = math.log10(nChiralCenters + 1)\n",
    "    spiroPenalty = math.log10(nSpiro + 1)\n",
    "    bridgePenalty = math.log10(nBridgeheads + 1)\n",
    "    macrocyclePenalty = 0.\n",
    "    # ---------------------------------------\n",
    "    # This differs from the paper, which defines:\n",
    "    #  macrocyclePenalty = math.log10(nMacrocycles+1)\n",
    "    # This form generates better results when 2 or more macrocycles are present\n",
    "    if nMacrocycles > 0:\n",
    "        macrocyclePenalty = math.log10(2)\n",
    "\n",
    "    score2 = 0. - sizePenalty - stereoPenalty - spiroPenalty - bridgePenalty - macrocyclePenalty\n",
    "\n",
    "    # correction for the fingerprint density\n",
    "    # not in the original publication, added in version 1.1\n",
    "    # to make highly symmetrical molecules easier to synthetise\n",
    "    score3 = 0.\n",
    "    if nAtoms > len(fps):\n",
    "        score3 = math.log(float(nAtoms) / len(fps)) * .5\n",
    "\n",
    "    sascore = score1 + score2 + score3\n",
    "\n",
    "    # need to transform \"raw\" value into scale between 1 and 10\n",
    "    min = -4.0\n",
    "    max = 2.5\n",
    "    sascore = 11. - (sascore - min + 1) / (max - min) * 9.\n",
    "    # smooth the 10-end\n",
    "    if sascore > 8.:\n",
    "        sascore = 8. + math.log(sascore + 1. - 9.)\n",
    "    if sascore > 10.:\n",
    "        sascore = 10.0\n",
    "    elif sascore < 1.:\n",
    "        sascore = 1.0\n",
    "    return sascore\n"
   ]
  },
  {
   "cell_type": "code",
   "execution_count": null,
   "metadata": {},
   "outputs": [],
   "source": [
    "sasa_list=[]\n",
    "\n",
    "for m in molecule_list:\n",
    "    sasa_list.append(calculateScore(m))\n",
    "    \n",
    "with open(\"num_list.dat\",\"w\") as f:\n",
    "    for i in sasa_list:\n",
    "        f.write(\"%s\\n\" % (i))\n",
    "        \n",
    "sasa_list.clear() "
   ]
  }
 ],
 "metadata": {
  "kernelspec": {
   "display_name": "Python 3",
   "language": "python",
   "name": "python3"
  },
  "language_info": {
   "codemirror_mode": {
    "name": "ipython",
    "version": 3
   },
   "file_extension": ".py",
   "mimetype": "text/x-python",
   "name": "python",
   "nbconvert_exporter": "python",
   "pygments_lexer": "ipython3",
   "version": "3.8.3"
  }
 },
 "nbformat": 4,
 "nbformat_minor": 2
}
